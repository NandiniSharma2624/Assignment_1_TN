{
  "nbformat": 4,
  "nbformat_minor": 0,
  "metadata": {
    "colab": {
      "provenance": []
    },
    "kernelspec": {
      "name": "python3",
      "display_name": "Python 3"
    },
    "language_info": {
      "name": "python"
    }
  },
  "cells": [
    {
      "cell_type": "code",
      "execution_count": 1,
      "metadata": {
        "colab": {
          "base_uri": "https://localhost:8080/"
        },
        "id": "mgbG6z0sW6Xp",
        "outputId": "89e6640c-330e-4658-c5f8-826654c51a30"
      },
      "outputs": [
        {
          "output_type": "stream",
          "name": "stdout",
          "text": [
            "Enter the operator(+,-,/,*):/\n",
            "Enter the first values:20\n",
            "Enter the second values:5\n",
            "Division of two values: 4.0\n"
          ]
        }
      ],
      "source": [
        "sign = input(\"Enter the operator(+,-,/,*):\")\n",
        "a = int(input(\"Enter the first values:\"))\n",
        "b = int(input(\"Enter the second values:\"))\n",
        "if sign == \"+\":\n",
        "  print(\"Addition of two values:\", a+b)\n",
        "elif sign == \"-\":\n",
        "  print(\"Substraction of two values:\", a-b)\n",
        "elif sign == \"/\":\n",
        "  print(\"Division of two values:\", a/b)\n",
        "elif sign == \"*\":\n",
        "  print(\"Multiplication of two values:\", a*b)\n",
        "else:\n",
        "  print(\"Invalid Sign\")"
      ]
    },
    {
      "cell_type": "code",
      "source": [],
      "metadata": {
        "id": "OCLatw1ndzJY"
      },
      "execution_count": null,
      "outputs": []
    }
  ]
}