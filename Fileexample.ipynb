{
  "nbformat": 4,
  "nbformat_minor": 0,
  "metadata": {
    "colab": {
      "provenance": []
    },
    "kernelspec": {
      "name": "python3",
      "display_name": "Python 3"
    },
    "language_info": {
      "name": "python"
    }
  },
  "cells": [
    {
      "cell_type": "code",
      "execution_count": 2,
      "metadata": {
        "colab": {
          "base_uri": "https://localhost:8080/"
        },
        "id": "JaObCXo4et8G",
        "outputId": "3dcb8103-a48f-4d83-e913-78d1ceb113b2"
      },
      "outputs": [
        {
          "output_type": "stream",
          "name": "stdout",
          "text": [
            ". the main body of matter in a manuscript, book, etc., as distinguished from notes, appendixes, illustrations, etc. 2. the actual, original words of an author or speaker, as opposed to a translation.\n"
          ]
        }
      ],
      "source": [
        "# For the r+ mode\n",
        "myfile = open(\"file.txt\",\"r+\")\n",
        "data = myfile.read()\n",
        "myfile.write(\"Its Nandini\")\n",
        "print(data)"
      ]
    },
    {
      "cell_type": "code",
      "source": [
        "# For the w+ mode\n",
        "myfile1 = open (\"write.txt\",\"w+\")\n",
        "myfile1.write(\"Hello Its me Nandini Shrama\")\n",
        "myfile1.seek(0)\n",
        "data = myfile1.read()\n",
        "print(data)"
      ],
      "metadata": {
        "colab": {
          "base_uri": "https://localhost:8080/"
        },
        "id": "cnYoJ1TAhLUq",
        "outputId": "eea16a6a-2718-44e4-9444-ec162301d552"
      },
      "execution_count": 8,
      "outputs": [
        {
          "output_type": "stream",
          "name": "stdout",
          "text": [
            "Hello Its me Nandini Shrama\n"
          ]
        }
      ]
    },
    {
      "cell_type": "code",
      "source": [
        "# For the a+ mode\n",
        "myfile1 = open (\"write.txt\",\"a+\")\n",
        "myfile1.write(\". Im from batch november.\")\n",
        "myfile1.seek(0)\n",
        "data = myfile1.read()\n",
        "print(data)"
      ],
      "metadata": {
        "colab": {
          "base_uri": "https://localhost:8080/"
        },
        "id": "p-7HOw0zik_E",
        "outputId": "da00308b-c333-4dc1-f736-a5b36898d8cc"
      },
      "execution_count": 9,
      "outputs": [
        {
          "output_type": "stream",
          "name": "stdout",
          "text": [
            "Hello Its me Nandini Shrama. Im from batch november.\n"
          ]
        }
      ]
    },
    {
      "cell_type": "code",
      "source": [],
      "metadata": {
        "id": "Tqu5wV68lL8J"
      },
      "execution_count": null,
      "outputs": []
    }
  ]
}